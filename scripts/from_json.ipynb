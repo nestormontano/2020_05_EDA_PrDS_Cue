{
  "nbformat": 4,
  "nbformat_minor": 0,
  "metadata": {
    "colab": {
      "provenance": [],
      "authorship_tag": "ABX9TyNAyovrGH7vioQPq5BnfXbU",
      "include_colab_link": true
    },
    "kernelspec": {
      "name": "python3",
      "display_name": "Python 3"
    },
    "language_info": {
      "name": "python"
    }
  },
  "cells": [
    {
      "cell_type": "markdown",
      "metadata": {
        "id": "view-in-github",
        "colab_type": "text"
      },
      "source": [
        "<a href=\"https://colab.research.google.com/github/nestormontano/2020_05_EDA_PrDS_Cue/blob/master/scripts/from_json.ipynb\" target=\"_parent\"><img src=\"https://colab.research.google.com/assets/colab-badge.svg\" alt=\"Open In Colab\"/></a>"
      ]
    },
    {
      "cell_type": "code",
      "execution_count": 1,
      "metadata": {
        "colab": {
          "base_uri": "https://localhost:8080/"
        },
        "id": "-Y_SMU4Rh-ln",
        "outputId": "9e917d3d-e91e-4494-82cc-fadeea5db5d6"
      },
      "outputs": [
        {
          "output_type": "stream",
          "name": "stdout",
          "text": [
            "Collecting spoonbill\n",
            "  Downloading spoonbill-1.0.11-py3-none-any.whl (38 kB)\n",
            "Requirement already satisfied: click in /usr/local/lib/python3.10/dist-packages (from spoonbill) (8.1.7)\n",
            "Collecting click-logging (from spoonbill)\n",
            "  Downloading click_logging-1.0.1-py2.py3-none-any.whl (6.6 kB)\n",
            "Collecting flatten-dict (from spoonbill)\n",
            "  Downloading flatten_dict-0.4.2-py2.py3-none-any.whl (9.7 kB)\n",
            "Collecting ijson>=2.5 (from spoonbill)\n",
            "  Downloading ijson-3.2.3-cp310-cp310-manylinux_2_17_x86_64.manylinux2014_x86_64.whl (111 kB)\n",
            "\u001b[2K     \u001b[90m━━━━━━━━━━━━━━━━━━━━━━━━━━━━━━━━━━━━━━━\u001b[0m \u001b[32m111.8/111.8 kB\u001b[0m \u001b[31m5.0 MB/s\u001b[0m eta \u001b[36m0:00:00\u001b[0m\n",
            "\u001b[?25hCollecting jsonref (from spoonbill)\n",
            "  Downloading jsonref-1.1.0-py3-none-any.whl (9.4 kB)\n",
            "Collecting ocdsextensionregistry (from spoonbill)\n",
            "  Downloading ocdsextensionregistry-0.3.8-py3-none-any.whl (28 kB)\n",
            "Collecting ocdskit>=1.0.1 (from spoonbill)\n",
            "  Downloading ocdskit-1.1.8-py3-none-any.whl (35 kB)\n",
            "Requirement already satisfied: requests in /usr/local/lib/python3.10/dist-packages (from spoonbill) (2.31.0)\n",
            "Collecting scalpl (from spoonbill)\n",
            "  Downloading scalpl-0.4.2-py3-none-any.whl (6.8 kB)\n",
            "Requirement already satisfied: setuptools in /usr/local/lib/python3.10/dist-packages (from spoonbill) (67.7.2)\n",
            "Collecting xlsxwriter (from spoonbill)\n",
            "  Downloading XlsxWriter-3.1.3-py3-none-any.whl (153 kB)\n",
            "\u001b[2K     \u001b[90m━━━━━━━━━━━━━━━━━━━━━━━━━━━━━━━━━━━━━━\u001b[0m \u001b[32m153.2/153.2 kB\u001b[0m \u001b[31m17.1 MB/s\u001b[0m eta \u001b[36m0:00:00\u001b[0m\n",
            "\u001b[?25hCollecting ocdsmerge>=0.6 (from ocdskit>=1.0.1->spoonbill)\n",
            "  Downloading ocdsmerge-0.6.6-py3-none-any.whl (10 kB)\n",
            "Collecting json-merge-patch (from ocdsextensionregistry->spoonbill)\n",
            "  Downloading json-merge-patch-0.2.tar.gz (3.1 kB)\n",
            "  Preparing metadata (setup.py) ... \u001b[?25l\u001b[?25hdone\n",
            "Collecting requests-cache>=1 (from ocdsextensionregistry->spoonbill)\n",
            "  Downloading requests_cache-1.1.0-py3-none-any.whl (60 kB)\n",
            "\u001b[2K     \u001b[90m━━━━━━━━━━━━━━━━━━━━━━━━━━━━━━━━━━━━━━━━\u001b[0m \u001b[32m60.1/60.1 kB\u001b[0m \u001b[31m3.8 MB/s\u001b[0m eta \u001b[36m0:00:00\u001b[0m\n",
            "\u001b[?25hRequirement already satisfied: six<2.0,>=1.12 in /usr/local/lib/python3.10/dist-packages (from flatten-dict->spoonbill) (1.16.0)\n",
            "Requirement already satisfied: charset-normalizer<4,>=2 in /usr/local/lib/python3.10/dist-packages (from requests->spoonbill) (3.2.0)\n",
            "Requirement already satisfied: idna<4,>=2.5 in /usr/local/lib/python3.10/dist-packages (from requests->spoonbill) (3.4)\n",
            "Requirement already satisfied: urllib3<3,>=1.21.1 in /usr/local/lib/python3.10/dist-packages (from requests->spoonbill) (2.0.4)\n",
            "Requirement already satisfied: certifi>=2017.4.17 in /usr/local/lib/python3.10/dist-packages (from requests->spoonbill) (2023.7.22)\n",
            "Requirement already satisfied: attrs>=21.2 in /usr/local/lib/python3.10/dist-packages (from requests-cache>=1->ocdsextensionregistry->spoonbill) (23.1.0)\n",
            "Collecting cattrs>=22.2 (from requests-cache>=1->ocdsextensionregistry->spoonbill)\n",
            "  Downloading cattrs-23.1.2-py3-none-any.whl (50 kB)\n",
            "\u001b[2K     \u001b[90m━━━━━━━━━━━━━━━━━━━━━━━━━━━━━━━━━━━━━━━━\u001b[0m \u001b[32m50.8/50.8 kB\u001b[0m \u001b[31m5.7 MB/s\u001b[0m eta \u001b[36m0:00:00\u001b[0m\n",
            "\u001b[?25hRequirement already satisfied: platformdirs>=2.5 in /usr/local/lib/python3.10/dist-packages (from requests-cache>=1->ocdsextensionregistry->spoonbill) (3.10.0)\n",
            "Collecting url-normalize>=1.4 (from requests-cache>=1->ocdsextensionregistry->spoonbill)\n",
            "  Downloading url_normalize-1.4.3-py2.py3-none-any.whl (6.8 kB)\n",
            "Requirement already satisfied: exceptiongroup in /usr/local/lib/python3.10/dist-packages (from cattrs>=22.2->requests-cache>=1->ocdsextensionregistry->spoonbill) (1.1.3)\n",
            "Requirement already satisfied: typing_extensions>=4.1.0 in /usr/local/lib/python3.10/dist-packages (from cattrs>=22.2->requests-cache>=1->ocdsextensionregistry->spoonbill) (4.5.0)\n",
            "Building wheels for collected packages: json-merge-patch\n",
            "  Building wheel for json-merge-patch (setup.py) ... \u001b[?25l\u001b[?25hdone\n",
            "  Created wheel for json-merge-patch: filename=json_merge_patch-0.2-py3-none-any.whl size=4378 sha256=6201513bfdb7ce63a291b3a7ef76d526e22199276509ceb6d35a3f187e163b66\n",
            "  Stored in directory: /root/.cache/pip/wheels/28/11/94/29fc25fd0520d36d007638e1901919d76374d0cd94abd1e293\n",
            "Successfully built json-merge-patch\n",
            "Installing collected packages: json-merge-patch, ijson, xlsxwriter, url-normalize, scalpl, jsonref, flatten-dict, click-logging, cattrs, requests-cache, ocdsmerge, ocdsextensionregistry, ocdskit, spoonbill\n",
            "Successfully installed cattrs-23.1.2 click-logging-1.0.1 flatten-dict-0.4.2 ijson-3.2.3 json-merge-patch-0.2 jsonref-1.1.0 ocdsextensionregistry-0.3.8 ocdskit-1.1.8 ocdsmerge-0.6.6 requests-cache-1.1.0 scalpl-0.4.2 spoonbill-1.0.11 url-normalize-1.4.3 xlsxwriter-3.1.3\n"
          ]
        }
      ],
      "source": [
        "pip install spoonbill"
      ]
    },
    {
      "cell_type": "code",
      "source": [
        "from spoonbill import  FileAnalyzer\n",
        "from spoonbill.common import ROOT_TABLES, COMBINED_TABLES"
      ],
      "metadata": {
        "id": "u5fpG77uiG4I"
      },
      "execution_count": 2,
      "outputs": []
    },
    {
      "cell_type": "code",
      "source": [
        "help(FileAnalyzer)"
      ],
      "metadata": {
        "colab": {
          "base_uri": "https://localhost:8080/"
        },
        "id": "UefiJJFqrf_1",
        "outputId": "e5495025-7acf-4fdc-a4bd-0eeed21c82eb"
      },
      "execution_count": 30,
      "outputs": [
        {
          "output_type": "stream",
          "name": "stdout",
          "text": [
            "Help on class FileAnalyzer in module spoonbill:\n",
            "\n",
            "class FileAnalyzer(builtins.object)\n",
            " |  FileAnalyzer(workdir, schema=None, state_file=None, root_tables={'tenders': ['/tender'], 'awards': ['/awards'], 'contracts': ['/contracts'], 'planning': ['/planning'], 'parties': ['/parties', '/buyer']}, combined_tables={'documents': ['/planning/documents', '/tender/documents', '/awards/documents', '/contracts/documents', '/contracts/implementation/documents'], 'milestones': ['/planning/milestones', '/tender/milestones', '/contracts/milestones', '/contracts/implementation/milestones'], 'amendments': ['/planning/amendments', '/tender/amendments', '/awards/amendments', '/contracts/amendments', '/contracts/implementation/amendments']}, pkg_type='releases', language='en', table_threshold=5)\n",
            " |  \n",
            " |  Main utility for analyzing files\n",
            " |  :param workdir: Working directory\n",
            " |  :param schema: Json schema file to use with data\n",
            " |  :param root_tables: Path configuration which should become root tables\n",
            " |  :param combined_tables: Path configuration for tables with multiple sources\n",
            " |  :param pkg_type: Field name to access records\n",
            " |  :param language: Language to use for the human-readable headings\n",
            " |  :param table_threshold: The maximum number of elements in an array before it is split into a table\n",
            " |  \n",
            " |  Methods defined here:\n",
            " |  \n",
            " |  __init__(self, workdir, schema=None, state_file=None, root_tables={'tenders': ['/tender'], 'awards': ['/awards'], 'contracts': ['/contracts'], 'planning': ['/planning'], 'parties': ['/parties', '/buyer']}, combined_tables={'documents': ['/planning/documents', '/tender/documents', '/awards/documents', '/contracts/documents', '/contracts/implementation/documents'], 'milestones': ['/planning/milestones', '/tender/milestones', '/contracts/milestones', '/contracts/implementation/milestones'], 'amendments': ['/planning/amendments', '/tender/amendments', '/awards/amendments', '/contracts/amendments', '/contracts/implementation/amendments']}, pkg_type='releases', language='en', table_threshold=5)\n",
            " |      Initialize self.  See help(type(self)) for accurate signature.\n",
            " |  \n",
            " |  analyze_file(self, filenames, with_preview=True)\n",
            " |      Analyze provided file\n",
            " |      :param filename: Input filename\n",
            " |      :param with_preview: Generate preview during analysis\n",
            " |  \n",
            " |  dump_to_file(self, filename)\n",
            " |      Save analyzed information to file\n",
            " |      :param filename: Output filename in working directory\n",
            " |  \n",
            " |  parse_schema(self, input_format, schema=None)\n",
            " |  \n",
            " |  sort_tables(self)\n",
            " |      Sort tables according to order of arrays in schema\n",
            " |      :return:\n",
            " |  \n",
            " |  ----------------------------------------------------------------------\n",
            " |  Data descriptors defined here:\n",
            " |  \n",
            " |  __dict__\n",
            " |      dictionary for instance variables (if defined)\n",
            " |  \n",
            " |  __weakref__\n",
            " |      list of weak references to the object (if defined)\n",
            "\n"
          ]
        }
      ]
    },
    {
      "cell_type": "code",
      "source": [
        "analyzer = FileAnalyzer(\n",
        "    '.',\n",
        "    schema= \"/content/data/release-schema.json\",\n",
        "    root_tables=ROOT_TABLES,\n",
        "    combined_tables=COMBINED_TABLES,\n",
        "    language='en',\n",
        "    table_threshold=5,\n",
        ")"
      ],
      "metadata": {
        "id": "zkN1ODB9iLxX"
      },
      "execution_count": 28,
      "outputs": []
    },
    {
      "cell_type": "code",
      "source": [
        "analyzer.analyze_file(\"/content/data/releases_2023_asesoria_y_patrocinio_juridico.json\")"
      ],
      "metadata": {
        "colab": {
          "base_uri": "https://localhost:8080/"
        },
        "id": "Nb-JMnGUjsxW",
        "outputId": "506ac9af-accd-4007-bd02-cc9a7c82f387"
      },
      "execution_count": 40,
      "outputs": [
        {
          "output_type": "execute_result",
          "data": {
            "text/plain": [
              "<generator object FileAnalyzer.analyze_file at 0x789a13b8daf0>"
            ]
          },
          "metadata": {},
          "execution_count": 40
        }
      ]
    },
    {
      "cell_type": "code",
      "source": [
        "from spoonbill import FileFlattener\n",
        "from spoonbill.flatten import FlattenOptions"
      ],
      "metadata": {
        "id": "SA4TXkqZsPqf"
      },
      "execution_count": 41,
      "outputs": []
    },
    {
      "cell_type": "code",
      "source": [
        "flattener = FileFlattener(\n",
        "    '.',\n",
        "    FlattenOptions(**{\n",
        "    \"selection\": {\n",
        "        \"tenders\": {\"split\": True},\n",
        "        \"parties\": {\"split\": True}\n",
        "    }\n",
        "}),\n",
        "    analyzer,\n",
        "    csv=True, # Generate csv files\n",
        "    xlsx=True, # Generate xlsx files\n",
        "    language='en'\n",
        ")\n",
        "\n",
        "flattener.flatten_file(\"/content/data/releases_2023_asesoria_y_patrocinio_juridico.json\")"
      ],
      "metadata": {
        "colab": {
          "base_uri": "https://localhost:8080/"
        },
        "id": "6Sr62tl_ryRf",
        "outputId": "f8ca2c7b-ce52-47a1-d462-213df5ce67fb"
      },
      "execution_count": 56,
      "outputs": [
        {
          "output_type": "execute_result",
          "data": {
            "text/plain": [
              "<generator object FileFlattener.flatten_file at 0x789a13aad690>"
            ]
          },
          "metadata": {},
          "execution_count": 56
        }
      ]
    },
    {
      "cell_type": "code",
      "source": [
        "flattener"
      ],
      "metadata": {
        "colab": {
          "base_uri": "https://localhost:8080/"
        },
        "id": "dUxokai2tNP2",
        "outputId": "8c28eb1a-9912-4c5a-b2dd-e5750ce5e6c5"
      },
      "execution_count": 58,
      "outputs": [
        {
          "output_type": "execute_result",
          "data": {
            "text/plain": [
              "<spoonbill.FileFlattener at 0x789a13bfe830>"
            ]
          },
          "metadata": {},
          "execution_count": 58
        }
      ]
    },
    {
      "cell_type": "code",
      "source": [
        "help(flattener)"
      ],
      "metadata": {
        "colab": {
          "base_uri": "https://localhost:8080/"
        },
        "id": "VwiOJ7rcsyt9",
        "outputId": "fcac221f-d8bb-47b2-b494-d1174292959f"
      },
      "execution_count": 57,
      "outputs": [
        {
          "output_type": "stream",
          "name": "stdout",
          "text": [
            "Help on FileFlattener in module spoonbill object:\n",
            "\n",
            "class FileFlattener(builtins.object)\n",
            " |  FileFlattener(workdir, options, analyzer=None, tables=None, pkg_type='releases', csv=None, xlsx='result.xlsx', language='en', multiple_values=False, schema=None)\n",
            " |  \n",
            " |  Main utility for flattening files\n",
            " |  :param workdir: Working directory\n",
            " |  :param options: Flattening configuration\n",
            " |  :param analyzer: Analyzed data object\n",
            " |  :param pkg_type: Field name to access records\n",
            " |  :param csv: If True generate cvs files\n",
            " |  :param xlsx: Generate combined xlsx table\n",
            " |  :param language: Language to use for the human-readable headings\n",
            " |  \n",
            " |  Methods defined here:\n",
            " |  \n",
            " |  __init__(self, workdir, options, analyzer=None, tables=None, pkg_type='releases', csv=None, xlsx='result.xlsx', language='en', multiple_values=False, schema=None)\n",
            " |      Initialize self.  See help(type(self)) for accurate signature.\n",
            " |  \n",
            " |  flatten_file(self, filename)\n",
            " |      Flatten file\n",
            " |      :param filename: Input filename in working directory\n",
            " |  \n",
            " |  ----------------------------------------------------------------------\n",
            " |  Data descriptors defined here:\n",
            " |  \n",
            " |  __dict__\n",
            " |      dictionary for instance variables (if defined)\n",
            " |  \n",
            " |  __weakref__\n",
            " |      list of weak references to the object (if defined)\n",
            "\n"
          ]
        }
      ]
    },
    {
      "cell_type": "code",
      "source": [
        "! spoonbill --schema /content/data/release-schema.json --xlsx pre.xlsx /content/data/releases_2023_asesoria_y_patrocinio_juridico.json"
      ],
      "metadata": {
        "colab": {
          "base_uri": "https://localhost:8080/"
        },
        "id": "7GNVEs9Zj-z4",
        "outputId": "c49d7216-d2b9-4ccc-ef64-df287e4f44dc"
      },
      "execution_count": 25,
      "outputs": [
        {
          "output_type": "stream",
          "name": "stdout",
          "text": [
            "\u001b[1mState file not supplied, going to analyze input file first\u001b[0m\n",
            "Analyze options:\n",
            " - threshold                      => \u001b[36m5\u001b[0m\n",
            " - language                       => \u001b[36men\u001b[0m\n",
            "Processing file: \u001b[36m/content/data/releases_2023_asesoria_y_patrocinio_juridico.json\u001b[0m\n",
            "\r\u001b[?25l  []  0/216914    0%Input file is release package\n",
            "\u001b[?25h\n",
            "Traceback (most recent call last):\n",
            "  File \"/usr/local/bin/spoonbill\", line 8, in <module>\n",
            "    sys.exit(cli())\n",
            "  File \"/usr/local/lib/python3.10/dist-packages/click/core.py\", line 1157, in __call__\n",
            "    return self.main(*args, **kwargs)\n",
            "  File \"/usr/local/lib/python3.10/dist-packages/click/core.py\", line 1078, in main\n",
            "    rv = self.invoke(ctx)\n",
            "  File \"/usr/local/lib/python3.10/dist-packages/click/core.py\", line 1434, in invoke\n",
            "    return ctx.invoke(self.callback, **ctx.params)\n",
            "  File \"/usr/local/lib/python3.10/dist-packages/click/core.py\", line 783, in invoke\n",
            "    return __callback(*args, **kwargs)\n",
            "  File \"/usr/local/lib/python3.10/dist-packages/spoonbill/cli.py\", line 230, in cli\n",
            "    for read, number in analyzer.analyze_file(filename, with_preview=False):\n",
            "  File \"/usr/local/lib/python3.10/dist-packages/spoonbill/__init__.py\", line 87, in analyze_file\n",
            "    for count in self.spec.process_items(items):\n",
            "  File \"/usr/local/lib/python3.10/dist-packages/spoonbill/stats.py\", line 405, in process_items\n",
            "    self.total_items = count\n",
            "UnboundLocalError: local variable 'count' referenced before assignment\n"
          ]
        }
      ]
    },
    {
      "cell_type": "code",
      "source": [
        "! spoonbill --schema /content/data/release-schema.json /content/data/releases_2023_asesoria_y_patrocinio_juridico.json"
      ],
      "metadata": {
        "colab": {
          "base_uri": "https://localhost:8080/"
        },
        "id": "9BK45D1Kl5L-",
        "outputId": "cf5ad3fc-4899-4f6e-8b02-b90422ea72f0"
      },
      "execution_count": 26,
      "outputs": [
        {
          "output_type": "stream",
          "name": "stdout",
          "text": [
            "\u001b[1mState file not supplied, going to analyze input file first\u001b[0m\n",
            "Analyze options:\n",
            " - threshold                      => \u001b[36m5\u001b[0m\n",
            " - language                       => \u001b[36men\u001b[0m\n",
            "Processing file: \u001b[36m/content/data/releases_2023_asesoria_y_patrocinio_juridico.json\u001b[0m\n",
            "\r\u001b[?25l  []  0/216914    0%Input file is release package\n",
            "\u001b[?25h\n",
            "Traceback (most recent call last):\n",
            "  File \"/usr/local/bin/spoonbill\", line 8, in <module>\n",
            "    sys.exit(cli())\n",
            "  File \"/usr/local/lib/python3.10/dist-packages/click/core.py\", line 1157, in __call__\n",
            "    return self.main(*args, **kwargs)\n",
            "  File \"/usr/local/lib/python3.10/dist-packages/click/core.py\", line 1078, in main\n",
            "    rv = self.invoke(ctx)\n",
            "  File \"/usr/local/lib/python3.10/dist-packages/click/core.py\", line 1434, in invoke\n",
            "    return ctx.invoke(self.callback, **ctx.params)\n",
            "  File \"/usr/local/lib/python3.10/dist-packages/click/core.py\", line 783, in invoke\n",
            "    return __callback(*args, **kwargs)\n",
            "  File \"/usr/local/lib/python3.10/dist-packages/spoonbill/cli.py\", line 230, in cli\n",
            "    for read, number in analyzer.analyze_file(filename, with_preview=False):\n",
            "  File \"/usr/local/lib/python3.10/dist-packages/spoonbill/__init__.py\", line 87, in analyze_file\n",
            "    for count in self.spec.process_items(items):\n",
            "  File \"/usr/local/lib/python3.10/dist-packages/spoonbill/stats.py\", line 405, in process_items\n",
            "    self.total_items = count\n",
            "UnboundLocalError: local variable 'count' referenced before assignment\n"
          ]
        }
      ]
    },
    {
      "cell_type": "code",
      "source": [],
      "metadata": {
        "id": "flX0TMaYmHCm"
      },
      "execution_count": null,
      "outputs": []
    }
  ]
}